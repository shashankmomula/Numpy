{
 "cells": [
  {
   "cell_type": "code",
   "execution_count": 2,
   "id": "56d82d08-c8cc-4448-97f7-e35c469bbad1",
   "metadata": {},
   "outputs": [
    {
     "name": "stdout",
     "output_type": "stream",
     "text": [
      "Hello world\n"
     ]
    }
   ],
   "source": [
    "print(\"Hello world\")"
   ]
  },
  {
   "cell_type": "markdown",
   "id": "4b9591ad-0cc5-4f81-a53f-ac0c9e48bb6f",
   "metadata": {},
   "source": [
    "<h2>Creating numpy/n-d arrays</h2>"
   ]
  },
  {
   "cell_type": "code",
   "execution_count": 7,
   "id": "2cdec521-7dd2-4f78-9286-1fe992591cbd",
   "metadata": {},
   "outputs": [],
   "source": [
    "import numpy as np"
   ]
  },
  {
   "cell_type": "markdown",
   "id": "342c99d5-8539-4e34-94c5-7f65534acf0f",
   "metadata": {
    "jp-MarkdownHeadingCollapsed": true
   },
   "source": [
    "<h6>Using np.array()</h6>"
   ]
  },
  {
   "cell_type": "code",
   "execution_count": 9,
   "id": "997fc592-be4b-4288-93be-7725a2250c13",
   "metadata": {},
   "outputs": [
    {
     "data": {
      "text/plain": [
       "array([1, 2, 3, 4, 5])"
      ]
     },
     "execution_count": 9,
     "metadata": {},
     "output_type": "execute_result"
    }
   ],
   "source": [
    "arr1 = np.array([1,2,3,4,5]) # using array()\n",
    "arr1"
   ]
  },
  {
   "cell_type": "code",
   "execution_count": 8,
   "id": "3436a28c-f85e-4e4d-ad49-bc865711b318",
   "metadata": {},
   "outputs": [
    {
     "name": "stdout",
     "output_type": "stream",
     "text": [
      "[1 2 3 4 5]\n"
     ]
    }
   ],
   "source": [
    "print(arr1)"
   ]
  },
  {
   "cell_type": "code",
   "execution_count": 10,
   "id": "4c7393ca-a9db-46bb-a1ff-89de353101fb",
   "metadata": {},
   "outputs": [
    {
     "data": {
      "text/plain": [
       "numpy.ndarray"
      ]
     },
     "execution_count": 10,
     "metadata": {},
     "output_type": "execute_result"
    }
   ],
   "source": [
    "type(arr1)"
   ]
  },
  {
   "cell_type": "code",
   "execution_count": 20,
   "id": "1552626d-b1f5-48d2-a103-d984e212023e",
   "metadata": {},
   "outputs": [
    {
     "data": {
      "text/plain": [
       "array([[1, 2, 3],\n",
       "       [4, 5, 6]])"
      ]
     },
     "execution_count": 20,
     "metadata": {},
     "output_type": "execute_result"
    }
   ],
   "source": [
    "# 2-d array\n",
    "arr2 = np.array([[1,2,3],[4,5,6]])\n",
    "arr2"
   ]
  },
  {
   "cell_type": "raw",
   "id": "68c3dbd2-e88e-407a-a612-b635fd5ec96d",
   "metadata": {},
   "source": [
    "print(arr2)\n"
   ]
  },
  {
   "cell_type": "markdown",
   "id": "f99507a5-ea80-43e9-92ff-883a66a2055b",
   "metadata": {
    "jp-MarkdownHeadingCollapsed": true
   },
   "source": [
    "<h6>Using np.zeros()</h6>"
   ]
  },
  {
   "cell_type": "code",
   "execution_count": 22,
   "id": "1adbd2b8-bb1c-4083-b31f-26ff3b4dbdb6",
   "metadata": {},
   "outputs": [],
   "source": [
    "arr3 = np.zeros((2,3)) "
   ]
  },
  {
   "cell_type": "code",
   "execution_count": 24,
   "id": "e064b425-8848-43a7-94c5-148d1b21d72a",
   "metadata": {},
   "outputs": [
    {
     "data": {
      "text/plain": [
       "array([[0., 0., 0.],\n",
       "       [0., 0., 0.]])"
      ]
     },
     "execution_count": 24,
     "metadata": {},
     "output_type": "execute_result"
    }
   ],
   "source": [
    "arr3"
   ]
  },
  {
   "cell_type": "code",
   "execution_count": 26,
   "id": "529232ca-1f92-4f23-895a-184b615c48e2",
   "metadata": {},
   "outputs": [
    {
     "name": "stdout",
     "output_type": "stream",
     "text": [
      "[[0. 0. 0.]\n",
      " [0. 0. 0.]]\n"
     ]
    }
   ],
   "source": [
    "print(arr3)"
   ]
  },
  {
   "cell_type": "markdown",
   "id": "746a8022-f73e-4b28-8a63-478b5019703d",
   "metadata": {
    "jp-MarkdownHeadingCollapsed": true
   },
   "source": [
    "<h6>Using np.ones()</h6>"
   ]
  },
  {
   "cell_type": "code",
   "execution_count": 28,
   "id": "af1c2002-d84f-40c2-9a63-4eaa6b657a64",
   "metadata": {},
   "outputs": [
    {
     "data": {
      "text/plain": [
       "array([[1., 1., 1.],\n",
       "       [1., 1., 1.],\n",
       "       [1., 1., 1.]])"
      ]
     },
     "execution_count": 28,
     "metadata": {},
     "output_type": "execute_result"
    }
   ],
   "source": [
    "arr4 = np.ones((3,3))\n",
    "arr4"
   ]
  },
  {
   "cell_type": "markdown",
   "id": "b45f0a46-239c-4567-bf6e-3a941e3035dd",
   "metadata": {
    "jp-MarkdownHeadingCollapsed": true
   },
   "source": [
    "<h6>Using np.identity()</h6>"
   ]
  },
  {
   "cell_type": "code",
   "execution_count": 32,
   "id": "64b9c8fe-827e-4a54-8463-83a2ca341aa9",
   "metadata": {},
   "outputs": [],
   "source": [
    "arr5 = np.identity((5))"
   ]
  },
  {
   "cell_type": "code",
   "execution_count": 34,
   "id": "cbe0115f-05a7-472e-b240-b42ed9e948d2",
   "metadata": {},
   "outputs": [
    {
     "data": {
      "text/plain": [
       "array([[1., 0., 0., 0., 0.],\n",
       "       [0., 1., 0., 0., 0.],\n",
       "       [0., 0., 1., 0., 0.],\n",
       "       [0., 0., 0., 1., 0.],\n",
       "       [0., 0., 0., 0., 1.]])"
      ]
     },
     "execution_count": 34,
     "metadata": {},
     "output_type": "execute_result"
    }
   ],
   "source": [
    "arr5"
   ]
  },
  {
   "cell_type": "markdown",
   "id": "ab909667-9442-4aa4-b2b0-d684179c5b2c",
   "metadata": {
    "jp-MarkdownHeadingCollapsed": true
   },
   "source": [
    "<h6>Using np.arange()</h6>"
   ]
  },
  {
   "cell_type": "code",
   "execution_count": 36,
   "id": "3537699c-824d-4123-b2a8-5ebe6d0083bc",
   "metadata": {},
   "outputs": [],
   "source": [
    "arr6 = np.arange(12)"
   ]
  },
  {
   "cell_type": "code",
   "execution_count": 38,
   "id": "460053d9-d170-4386-93c1-44415ff7fe89",
   "metadata": {},
   "outputs": [
    {
     "data": {
      "text/plain": [
       "array([ 0,  1,  2,  3,  4,  5,  6,  7,  8,  9, 10, 11])"
      ]
     },
     "execution_count": 38,
     "metadata": {},
     "output_type": "execute_result"
    }
   ],
   "source": [
    "arr6"
   ]
  },
  {
   "cell_type": "code",
   "execution_count": 40,
   "id": "fd2fe641-edba-4a1b-ac54-202b5e2e82be",
   "metadata": {},
   "outputs": [
    {
     "data": {
      "text/plain": [
       "array([ 4,  5,  6,  7,  8,  9, 10, 11])"
      ]
     },
     "execution_count": 40,
     "metadata": {},
     "output_type": "execute_result"
    }
   ],
   "source": [
    "arr6_1 = np.arange(4,12)\n",
    "arr6_1"
   ]
  },
  {
   "cell_type": "code",
   "execution_count": 42,
   "id": "93c5e80f-96a1-4994-9599-31560224dbba",
   "metadata": {},
   "outputs": [
    {
     "data": {
      "text/plain": [
       "array([ 4,  6,  8, 10])"
      ]
     },
     "execution_count": 42,
     "metadata": {},
     "output_type": "execute_result"
    }
   ],
   "source": [
    "arr6_2 = np.arange(4,12,2)\n",
    "arr6_2"
   ]
  },
  {
   "cell_type": "markdown",
   "id": "8ab0784a-11d0-4276-9078-bd2ab9e9c489",
   "metadata": {
    "jp-MarkdownHeadingCollapsed": true
   },
   "source": [
    "<h6>Using np.linspace()</h6>"
   ]
  },
  {
   "cell_type": "code",
   "execution_count": 46,
   "id": "e2186361-bed4-46b0-8b63-1f9a12ddc3e3",
   "metadata": {},
   "outputs": [
    {
     "data": {
      "text/plain": [
       "array([ 2., 20.])"
      ]
     },
     "execution_count": 46,
     "metadata": {},
     "output_type": "execute_result"
    }
   ],
   "source": [
    "arr7 = np.linspace(2,20,2)\n",
    "arr7"
   ]
  },
  {
   "cell_type": "markdown",
   "id": "b7d35758-9e7d-46b2-8bb7-97ed8e95f821",
   "metadata": {},
   "source": [
    "<h2>Important Attribute</h2>"
   ]
  },
  {
   "cell_type": "markdown",
   "id": "53f12555-e885-4db0-8b27-4225d8aeca5e",
   "metadata": {
    "jp-MarkdownHeadingCollapsed": true
   },
   "source": [
    "<h6>shape</h6>"
   ]
  },
  {
   "cell_type": "code",
   "execution_count": 51,
   "id": "eb431d23-d0db-482f-93f1-e9a8c834a4f5",
   "metadata": {},
   "outputs": [
    {
     "data": {
      "text/plain": [
       "(5,)"
      ]
     },
     "execution_count": 51,
     "metadata": {},
     "output_type": "execute_result"
    }
   ],
   "source": [
    "arr1.shape"
   ]
  },
  {
   "cell_type": "code",
   "execution_count": 53,
   "id": "a74d1872-9f4c-40f6-ace7-afb8dd1e82cb",
   "metadata": {},
   "outputs": [
    {
     "data": {
      "text/plain": [
       "(5, 5)"
      ]
     },
     "execution_count": 53,
     "metadata": {},
     "output_type": "execute_result"
    }
   ],
   "source": [
    "arr2.shape"
   ]
  },
  {
   "cell_type": "code",
   "execution_count": 59,
   "id": "4bae35d6-bf5c-4a06-ba84-f4264d88dd36",
   "metadata": {},
   "outputs": [
    {
     "data": {
      "text/plain": [
       "array([[1, 2, 3],\n",
       "       [4, 5, 6]])"
      ]
     },
     "execution_count": 59,
     "metadata": {},
     "output_type": "execute_result"
    }
   ],
   "source": [
    "arr8 = np.array([[1,2,3],[4,5,6]])\n",
    "arr8"
   ]
  },
  {
   "cell_type": "code",
   "execution_count": 78,
   "id": "99cb974a-3cc3-441d-a1e1-f84e1215c734",
   "metadata": {},
   "outputs": [
    {
     "data": {
      "text/plain": [
       "(2, 3)"
      ]
     },
     "execution_count": 78,
     "metadata": {},
     "output_type": "execute_result"
    }
   ],
   "source": [
    "arr8.shape #structure or (rows,columns) of an array"
   ]
  },
  {
   "cell_type": "markdown",
   "id": "fd87cbd9-6d38-4a36-aa00-e0be4f80bcc4",
   "metadata": {
    "jp-MarkdownHeadingCollapsed": true
   },
   "source": [
    "<h6>ndim</h6>"
   ]
  },
  {
   "cell_type": "code",
   "execution_count": 64,
   "id": "5bce50a6-1298-4167-a529-ad64c996b91a",
   "metadata": {},
   "outputs": [
    {
     "data": {
      "text/plain": [
       "2"
      ]
     },
     "execution_count": 64,
     "metadata": {},
     "output_type": "execute_result"
    }
   ],
   "source": [
    "arr2.ndim"
   ]
  },
  {
   "cell_type": "code",
   "execution_count": 76,
   "id": "4fc3cafa-386d-487a-bb05-f1b9e8022df2",
   "metadata": {},
   "outputs": [
    {
     "data": {
      "text/plain": [
       "1"
      ]
     },
     "execution_count": 76,
     "metadata": {},
     "output_type": "execute_result"
    }
   ],
   "source": [
    "arr1.ndim #dimension of the array\n"
   ]
  },
  {
   "cell_type": "markdown",
   "id": "96316d4b-ca93-4380-8e6b-7b159f573d93",
   "metadata": {
    "jp-MarkdownHeadingCollapsed": true
   },
   "source": [
    "<h6>size</h6>"
   ]
  },
  {
   "cell_type": "code",
   "execution_count": 74,
   "id": "ee899796-81d1-4073-b97b-31cfb186684e",
   "metadata": {},
   "outputs": [
    {
     "data": {
      "text/plain": [
       "25"
      ]
     },
     "execution_count": 74,
     "metadata": {},
     "output_type": "execute_result"
    }
   ],
   "source": [
    "arr2.size # no.of elements"
   ]
  },
  {
   "cell_type": "markdown",
   "id": "8554e984-b742-4372-9f78-431c2a680d69",
   "metadata": {
    "jp-MarkdownHeadingCollapsed": true
   },
   "source": [
    "<h6>itemsize</h6>"
   ]
  },
  {
   "cell_type": "code",
   "execution_count": 84,
   "id": "d64b1be5-20d5-4d1c-a37f-c7c5405f7726",
   "metadata": {},
   "outputs": [
    {
     "data": {
      "text/plain": [
       "4"
      ]
     },
     "execution_count": 84,
     "metadata": {},
     "output_type": "execute_result"
    }
   ],
   "source": [
    "arr1.itemsize #size of each element"
   ]
  },
  {
   "cell_type": "code",
   "execution_count": 82,
   "id": "d0c80568-763a-4467-ad16-4a1be51537ab",
   "metadata": {},
   "outputs": [
    {
     "data": {
      "text/plain": [
       "8"
      ]
     },
     "execution_count": 82,
     "metadata": {},
     "output_type": "execute_result"
    }
   ],
   "source": [
    "arr4.itemsize"
   ]
  },
  {
   "cell_type": "markdown",
   "id": "4902b2d9-7671-4088-be6f-8c3a7c9dc6dd",
   "metadata": {
    "jp-MarkdownHeadingCollapsed": true
   },
   "source": [
    "<h6>dtype</h6>"
   ]
  },
  {
   "cell_type": "code",
   "execution_count": 88,
   "id": "07a3dcf5-7df3-4889-bacf-73a3629b9bcd",
   "metadata": {},
   "outputs": [
    {
     "data": {
      "text/plain": [
       "dtype('float64')"
      ]
     },
     "execution_count": 88,
     "metadata": {},
     "output_type": "execute_result"
    }
   ],
   "source": [
    "arr4.dtype"
   ]
  },
  {
   "cell_type": "code",
   "execution_count": 90,
   "id": "e09cd5c7-b1e5-469e-b70a-0d507b9c833e",
   "metadata": {},
   "outputs": [
    {
     "data": {
      "text/plain": [
       "dtype('int32')"
      ]
     },
     "execution_count": 90,
     "metadata": {},
     "output_type": "execute_result"
    }
   ],
   "source": [
    "arr1.dtype"
   ]
  },
  {
   "cell_type": "markdown",
   "id": "e49a9705-c7c4-4b68-b010-609b94248230",
   "metadata": {
    "jp-MarkdownHeadingCollapsed": true
   },
   "source": [
    "<h6>astype</h6>"
   ]
  },
  {
   "cell_type": "code",
   "execution_count": 94,
   "id": "d39c1253-8f39-4bbd-9887-68a6a6a98608",
   "metadata": {},
   "outputs": [
    {
     "data": {
      "text/plain": [
       "array([1., 2., 3., 4., 5.])"
      ]
     },
     "execution_count": 94,
     "metadata": {},
     "output_type": "execute_result"
    }
   ],
   "source": [
    "arr1.astype('float')"
   ]
  },
  {
   "cell_type": "code",
   "execution_count": 96,
   "id": "6691315a-dc72-442b-be04-87966538629f",
   "metadata": {},
   "outputs": [
    {
     "data": {
      "text/plain": [
       "array([[1, 0, 0, 0, 0],\n",
       "       [0, 1, 0, 0, 0],\n",
       "       [0, 0, 1, 0, 0],\n",
       "       [0, 0, 0, 1, 0],\n",
       "       [0, 0, 0, 0, 1]])"
      ]
     },
     "execution_count": 96,
     "metadata": {},
     "output_type": "execute_result"
    }
   ],
   "source": [
    "arr5.astype('int')"
   ]
  },
  {
   "cell_type": "markdown",
   "id": "902c4a8c-7936-41ce-873a-abd83be075ca",
   "metadata": {
    "jp-MarkdownHeadingCollapsed": true
   },
   "source": [
    "<h2>Python list v/s Numpy array</h2>"
   ]
  },
  {
   "cell_type": "code",
   "execution_count": 99,
   "id": "aebffdb0-e43f-4c74-95d2-2faf3454f2ab",
   "metadata": {},
   "outputs": [],
   "source": [
    "import sys"
   ]
  },
  {
   "cell_type": "code",
   "execution_count": 101,
   "id": "b3b581fe-4b3d-496a-bc99-34c123df642d",
   "metadata": {},
   "outputs": [],
   "source": [
    "alist = range(100) # python list"
   ]
  },
  {
   "cell_type": "code",
   "execution_count": 103,
   "id": "4d5718a8-d7d9-41f5-b256-826abd0a82ca",
   "metadata": {},
   "outputs": [],
   "source": [
    "arr = np.arange(100) # Numpy array"
   ]
  },
  {
   "cell_type": "code",
   "execution_count": 107,
   "id": "b865eb45-443e-40d5-937e-76fa40273901",
   "metadata": {},
   "outputs": [
    {
     "name": "stdout",
     "output_type": "stream",
     "text": [
      "2800\n"
     ]
    }
   ],
   "source": [
    "print(sys.getsizeof(2)*len(alist))"
   ]
  },
  {
   "cell_type": "code",
   "execution_count": 113,
   "id": "b3f03d4a-4e4f-40c4-b8d5-b86e1875bce0",
   "metadata": {},
   "outputs": [
    {
     "name": "stdout",
     "output_type": "stream",
     "text": [
      "400\n"
     ]
    }
   ],
   "source": [
    "print(arr.itemsize*arr.size)"
   ]
  },
  {
   "cell_type": "code",
   "execution_count": 115,
   "id": "3cc7023e-e46e-41df-9d89-cd87fe30415a",
   "metadata": {},
   "outputs": [],
   "source": [
    "import time"
   ]
  },
  {
   "cell_type": "code",
   "execution_count": 123,
   "id": "8b4dc3e5-2987-4ee8-87c7-1ee4e260ab52",
   "metadata": {},
   "outputs": [
    {
     "name": "stdout",
     "output_type": "stream",
     "text": [
      "0.021999835968017578\n"
     ]
    }
   ],
   "source": [
    "x = range(100000)\n",
    "y = range(100000,200000)\n",
    "\n",
    "start_time = time.time()\n",
    "\n",
    "c=[(x,y) for x,y in zip(x,y)]\n",
    "print(time.time() - start_time)"
   ]
  },
  {
   "cell_type": "code",
   "execution_count": 7,
   "id": "2ea6b915-c746-446d-8317-a347cd38d490",
   "metadata": {},
   "outputs": [
    {
     "data": {
      "text/plain": [
       "array([ 0,  1,  2,  3,  4,  5,  6,  7,  8,  9, 10, 11, 12, 13, 14, 15, 16,\n",
       "       17, 18, 19, 20, 21, 22, 23])"
      ]
     },
     "execution_count": 7,
     "metadata": {},
     "output_type": "execute_result"
    }
   ],
   "source": [
    "arr9 = np.arange(24)\n",
    "arr9"
   ]
  },
  {
   "cell_type": "code",
   "execution_count": 23,
   "id": "b4064349-b338-4eaa-b25c-0036f6540117",
   "metadata": {
    "scrolled": true
   },
   "outputs": [
    {
     "data": {
      "text/plain": [
       "array([ 0,  1,  2,  3,  4,  5,  6,  7,  8,  9, 10, 11, 12, 13, 14, 15, 16,\n",
       "       17, 18, 19, 20, 21, 22, 23])"
      ]
     },
     "execution_count": 23,
     "metadata": {},
     "output_type": "execute_result"
    }
   ],
   "source": [
    "arr9 = np.arange(24) #we can change the shape of array using reshape()\n",
    "arr9"
   ]
  },
  {
   "cell_type": "markdown",
   "id": "8eab00d7-83c8-4037-aa09-78aa1e550c25",
   "metadata": {
    "jp-MarkdownHeadingCollapsed": true
   },
   "source": [
    "<h2>Indexing, Slicing, Iteration</h2>"
   ]
  },
  {
   "cell_type": "markdown",
   "id": "bb48ac50-fb20-4141-8ad4-657cf990c1c9",
   "metadata": {
    "jp-MarkdownHeadingCollapsed": true
   },
   "source": [
    "<h6>Indexing</h6>"
   ]
  },
  {
   "cell_type": "code",
   "execution_count": 15,
   "id": "7bc26b20-6749-43f1-a9e2-a4286387c303",
   "metadata": {},
   "outputs": [
    {
     "data": {
      "text/plain": [
       "3"
      ]
     },
     "execution_count": 15,
     "metadata": {},
     "output_type": "execute_result"
    }
   ],
   "source": [
    "arr1[2] #Indexing"
   ]
  },
  {
   "cell_type": "markdown",
   "id": "19bad3af-beac-4120-b055-3ebc65363385",
   "metadata": {
    "jp-MarkdownHeadingCollapsed": true
   },
   "source": [
    "<h6>Slicing</h6>"
   ]
  },
  {
   "cell_type": "code",
   "execution_count": 19,
   "id": "f22544a9-bc0b-4d11-bad0-52e319cb98e7",
   "metadata": {},
   "outputs": [],
   "source": [
    "#SLicing\n",
    "\n",
    "#arr[start:end:step]"
   ]
  },
  {
   "cell_type": "code",
   "execution_count": 17,
   "id": "cbfe4c42-40c2-4488-98a9-d6f8faf5617c",
   "metadata": {},
   "outputs": [
    {
     "data": {
      "text/plain": [
       "array([3, 4])"
      ]
     },
     "execution_count": 17,
     "metadata": {},
     "output_type": "execute_result"
    }
   ],
   "source": [
    "arr1[2:4] #slicing from index 2 to 3"
   ]
  },
  {
   "cell_type": "code",
   "execution_count": 27,
   "id": "4c260d63-cc9c-4c4d-94b3-6c779b35e566",
   "metadata": {},
   "outputs": [
    {
     "data": {
      "text/plain": [
       "array([ 2,  4,  6,  8, 10, 12, 14, 16, 18])"
      ]
     },
     "execution_count": 27,
     "metadata": {},
     "output_type": "execute_result"
    }
   ],
   "source": [
    "arr9[2:20:2] #From index 2 to 18 every second element"
   ]
  },
  {
   "cell_type": "code",
   "execution_count": 31,
   "id": "d4fcb894-55b2-4794-a345-c20afd553c69",
   "metadata": {},
   "outputs": [
    {
     "data": {
      "text/plain": [
       "array([[ 0,  1,  2],\n",
       "       [ 3,  4,  5],\n",
       "       [ 6,  7,  8],\n",
       "       [ 9, 10, 11]])"
      ]
     },
     "execution_count": 31,
     "metadata": {},
     "output_type": "execute_result"
    }
   ],
   "source": [
    "arr10 = np.arange(12).reshape(4,3)\n",
    "arr10"
   ]
  },
  {
   "cell_type": "code",
   "execution_count": 43,
   "id": "f56944bf-c7fe-4af2-9a42-51dee375ed46",
   "metadata": {},
   "outputs": [
    {
     "data": {
      "text/plain": [
       "array([[0, 1, 2],\n",
       "       [6, 7, 8]])"
      ]
     },
     "execution_count": 43,
     "metadata": {},
     "output_type": "execute_result"
    }
   ],
   "source": [
    "arr10[0:4:2]"
   ]
  },
  {
   "cell_type": "markdown",
   "id": "0d47da7d-b8ab-467a-9c41-bcff992fd83a",
   "metadata": {
    "jp-MarkdownHeadingCollapsed": true
   },
   "source": [
    "<h6>Iteration</h6>"
   ]
  },
  {
   "cell_type": "code",
   "execution_count": 45,
   "id": "305e7d66-0fcc-4214-b99f-e5aa2fde0b9e",
   "metadata": {},
   "outputs": [
    {
     "data": {
      "text/plain": [
       "5"
      ]
     },
     "execution_count": 45,
     "metadata": {},
     "output_type": "execute_result"
    }
   ],
   "source": [
    "arr10[1,2]"
   ]
  },
  {
   "cell_type": "code",
   "execution_count": 47,
   "id": "5f612a9b-0ae0-4d10-b118-350d92aae895",
   "metadata": {},
   "outputs": [
    {
     "name": "stdout",
     "output_type": "stream",
     "text": [
      "[0 1 2]\n",
      "[3 4 5]\n",
      "[6 7 8]\n",
      "[ 9 10 11]\n"
     ]
    }
   ],
   "source": [
    "for i in arr10:\n",
    "    print(i)"
   ]
  },
  {
   "cell_type": "code",
   "execution_count": 49,
   "id": "70895b5a-87bd-492c-9ece-b183adfa3bb6",
   "metadata": {},
   "outputs": [
    {
     "name": "stdout",
     "output_type": "stream",
     "text": [
      "0\n",
      "1\n",
      "2\n",
      "3\n",
      "4\n",
      "5\n",
      "6\n",
      "7\n",
      "8\n",
      "9\n",
      "10\n",
      "11\n"
     ]
    }
   ],
   "source": [
    "for i in np.nditer(arr10):\n",
    "    print(i)"
   ]
  },
  {
   "cell_type": "markdown",
   "id": "8b873869-4b25-4f57-b681-45553ce53ee3",
   "metadata": {},
   "source": [
    "<h2>Numpy Operations</h2>"
   ]
  },
  {
   "cell_type": "code",
   "execution_count": 53,
   "id": "d84ae3b4-610b-46ff-84c1-5970d0729472",
   "metadata": {},
   "outputs": [],
   "source": [
    "arr1 = np.array([1,2,3,4,5,6])\n",
    "arr2 = np.array([4,5,6,7,8,9])"
   ]
  },
  {
   "cell_type": "code",
   "execution_count": 55,
   "id": "2794c0a9-26f9-4f9d-b100-a2e7d83aceb7",
   "metadata": {},
   "outputs": [
    {
     "data": {
      "text/plain": [
       "array([-3, -3, -3, -3, -3, -3])"
      ]
     },
     "execution_count": 55,
     "metadata": {},
     "output_type": "execute_result"
    }
   ],
   "source": [
    "arr1-arr2"
   ]
  },
  {
   "cell_type": "code",
   "execution_count": 57,
   "id": "5b856e4f-f58e-438f-9ef3-d6d7a15d1120",
   "metadata": {},
   "outputs": [
    {
     "data": {
      "text/plain": [
       "array([ 2,  4,  6,  8, 10, 12])"
      ]
     },
     "execution_count": 57,
     "metadata": {},
     "output_type": "execute_result"
    }
   ],
   "source": [
    "arr1*2"
   ]
  },
  {
   "cell_type": "code",
   "execution_count": 59,
   "id": "84d8d33d-fdee-4dff-9e20-fe60381747cf",
   "metadata": {},
   "outputs": [
    {
     "data": {
      "text/plain": [
       "array([False, False, False,  True,  True,  True])"
      ]
     },
     "execution_count": 59,
     "metadata": {},
     "output_type": "execute_result"
    }
   ],
   "source": [
    "arr1>3"
   ]
  },
  {
   "cell_type": "code",
   "execution_count": 65,
   "id": "3920e9ec-e388-4e8a-950e-419cd1245c94",
   "metadata": {},
   "outputs": [
    {
     "data": {
      "text/plain": [
       "array([[0, 1, 2],\n",
       "       [3, 4, 5]])"
      ]
     },
     "execution_count": 65,
     "metadata": {},
     "output_type": "execute_result"
    }
   ],
   "source": [
    "arr3 = np.arange(6).reshape(2,3)\n",
    "arr4 = np.arange(6,12).reshape(3,2)\n",
    "arr3\n"
   ]
  },
  {
   "cell_type": "code",
   "execution_count": 63,
   "id": "9c6f58b6-3117-423c-9f9d-cffccbfea2c6",
   "metadata": {},
   "outputs": [
    {
     "data": {
      "text/plain": [
       "array([[ 6,  7],\n",
       "       [ 8,  9],\n",
       "       [10, 11]])"
      ]
     },
     "execution_count": 63,
     "metadata": {},
     "output_type": "execute_result"
    }
   ],
   "source": [
    "arr4"
   ]
  },
  {
   "cell_type": "markdown",
   "id": "85ec5ea5-88cf-4422-9ed2-8b0891e3f42e",
   "metadata": {
    "jp-MarkdownHeadingCollapsed": true
   },
   "source": [
    "<h6>Dot product</h6>"
   ]
  },
  {
   "cell_type": "code",
   "execution_count": 67,
   "id": "35ed9f3b-1b2b-4916-a255-a2e0e08a3b19",
   "metadata": {},
   "outputs": [
    {
     "data": {
      "text/plain": [
       "array([[ 28,  31],\n",
       "       [100, 112]])"
      ]
     },
     "execution_count": 67,
     "metadata": {},
     "output_type": "execute_result"
    }
   ],
   "source": [
    "arr3.dot(arr4)"
   ]
  },
  {
   "cell_type": "markdown",
   "id": "9fca0132-285a-4398-a87d-abb176b9c657",
   "metadata": {
    "jp-MarkdownHeadingCollapsed": true
   },
   "source": [
    "<h6>max() and min()</h6>"
   ]
  },
  {
   "cell_type": "code",
   "execution_count": 69,
   "id": "18b88184-d94e-4df5-a873-6143c7285526",
   "metadata": {},
   "outputs": [
    {
     "data": {
      "text/plain": [
       "11"
      ]
     },
     "execution_count": 69,
     "metadata": {},
     "output_type": "execute_result"
    }
   ],
   "source": [
    "arr4.max()"
   ]
  },
  {
   "cell_type": "code",
   "execution_count": null,
   "id": "ada9179a-78a3-43e8-9fd1-629a1dfa4788",
   "metadata": {},
   "outputs": [],
   "source": []
  },
  {
   "cell_type": "code",
   "execution_count": 71,
   "id": "d81043f8-0461-400c-a903-6bf25b73f7e1",
   "metadata": {},
   "outputs": [
    {
     "data": {
      "text/plain": [
       "6"
      ]
     },
     "execution_count": 71,
     "metadata": {},
     "output_type": "execute_result"
    }
   ],
   "source": [
    "arr4.min()"
   ]
  },
  {
   "cell_type": "code",
   "execution_count": 73,
   "id": "98b2042a-c0a5-40ad-a924-7d0f6ba31c50",
   "metadata": {},
   "outputs": [
    {
     "data": {
      "text/plain": [
       "array([6, 7])"
      ]
     },
     "execution_count": 73,
     "metadata": {},
     "output_type": "execute_result"
    }
   ],
   "source": [
    "arr4.min(axis=0) #For column wise"
   ]
  },
  {
   "cell_type": "code",
   "execution_count": 77,
   "id": "1b8dd2ae-7307-418a-9d37-9f7dfc20d9e0",
   "metadata": {},
   "outputs": [
    {
     "data": {
      "text/plain": [
       "array([ 6,  8, 10])"
      ]
     },
     "execution_count": 77,
     "metadata": {},
     "output_type": "execute_result"
    }
   ],
   "source": [
    "arr4.min(axis=1) #Row wise"
   ]
  },
  {
   "cell_type": "markdown",
   "id": "35f23ccf-5f95-4298-b12b-484663b2ffab",
   "metadata": {},
   "source": [
    "<h6>sum()</h6>"
   ]
  },
  {
   "cell_type": "code",
   "execution_count": 79,
   "id": "975f3ffb-db69-4c36-b1e6-d30c4b64c743",
   "metadata": {},
   "outputs": [
    {
     "data": {
      "text/plain": [
       "51"
      ]
     },
     "execution_count": 79,
     "metadata": {},
     "output_type": "execute_result"
    }
   ],
   "source": [
    "arr4.sum()"
   ]
  },
  {
   "cell_type": "code",
   "execution_count": 81,
   "id": "df335f70-04a7-4e45-afc9-15c6c5083d02",
   "metadata": {},
   "outputs": [
    {
     "data": {
      "text/plain": [
       "array([24, 27])"
      ]
     },
     "execution_count": 81,
     "metadata": {},
     "output_type": "execute_result"
    }
   ],
   "source": [
    "arr4.sum(axis=0)"
   ]
  },
  {
   "cell_type": "code",
   "execution_count": 83,
   "id": "f62caafa-f44d-47fa-a348-2d19cf43388b",
   "metadata": {},
   "outputs": [
    {
     "data": {
      "text/plain": [
       "array([13, 17, 21])"
      ]
     },
     "execution_count": 83,
     "metadata": {},
     "output_type": "execute_result"
    }
   ],
   "source": [
    "arr4.sum(axis=1)"
   ]
  },
  {
   "cell_type": "markdown",
   "id": "aa4fe8e4-04a2-4214-8aaf-6307d3ac71fe",
   "metadata": {},
   "source": [
    "<h6>mean()</h6>"
   ]
  },
  {
   "cell_type": "code",
   "execution_count": 85,
   "id": "ce725939-cbf3-4357-951a-9d45b9dc7355",
   "metadata": {},
   "outputs": [
    {
     "data": {
      "text/plain": [
       "8.5"
      ]
     },
     "execution_count": 85,
     "metadata": {},
     "output_type": "execute_result"
    }
   ],
   "source": [
    "arr4.mean()"
   ]
  },
  {
   "cell_type": "code",
   "execution_count": 87,
   "id": "022822bd-7971-4487-97d3-10b79b776952",
   "metadata": {},
   "outputs": [
    {
     "data": {
      "text/plain": [
       "1.707825127659933"
      ]
     },
     "execution_count": 87,
     "metadata": {},
     "output_type": "execute_result"
    }
   ],
   "source": [
    "arr4.std()"
   ]
  },
  {
   "cell_type": "code",
   "execution_count": 89,
   "id": "9e5096af-2047-452b-bd56-fd234043ac17",
   "metadata": {},
   "outputs": [
    {
     "data": {
      "text/plain": [
       "array([[-0.2794155 ,  0.6569866 ],\n",
       "       [ 0.98935825,  0.41211849],\n",
       "       [-0.54402111, -0.99999021]])"
      ]
     },
     "execution_count": 89,
     "metadata": {},
     "output_type": "execute_result"
    }
   ],
   "source": [
    "np.sin(arr4)"
   ]
  },
  {
   "cell_type": "markdown",
   "id": "56e11355-5693-47d5-8750-d8506dc03c38",
   "metadata": {},
   "source": [
    "<h2>Reshaping Numpy Arrays</h2>"
   ]
  },
  {
   "cell_type": "code",
   "execution_count": 92,
   "id": "3ead55e1-2300-4477-ad46-cfefe97d8876",
   "metadata": {},
   "outputs": [
    {
     "data": {
      "text/plain": [
       "2"
      ]
     },
     "execution_count": 92,
     "metadata": {},
     "output_type": "execute_result"
    }
   ],
   "source": [
    "arr4.ndim"
   ]
  },
  {
   "cell_type": "markdown",
   "id": "3f52ad9b-26e8-4022-a951-fd799b7e4e53",
   "metadata": {
    "jp-MarkdownHeadingCollapsed": true
   },
   "source": [
    "<h6>Using ravel</h6>"
   ]
  },
  {
   "cell_type": "code",
   "execution_count": 94,
   "id": "80cf02e2-11d4-4436-8e9e-0797c0805f6b",
   "metadata": {},
   "outputs": [
    {
     "data": {
      "text/plain": [
       "<function ndarray.ravel>"
      ]
     },
     "execution_count": 94,
     "metadata": {},
     "output_type": "execute_result"
    }
   ],
   "source": [
    "arr4.ravel"
   ]
  },
  {
   "cell_type": "code",
   "execution_count": 98,
   "id": "16f5ffe3-d3e8-47b0-87cf-ecf6d4e2e565",
   "metadata": {},
   "outputs": [
    {
     "data": {
      "text/plain": [
       "array([ 6,  7,  8,  9, 10, 11])"
      ]
     },
     "execution_count": 98,
     "metadata": {},
     "output_type": "execute_result"
    }
   ],
   "source": [
    "arr4.ravel() #it converts nd to 1d"
   ]
  },
  {
   "cell_type": "markdown",
   "id": "472bb93e-01e1-4c4a-98dc-d954d17b91e3",
   "metadata": {},
   "source": [
    "<h6>Using transpose()</h6>"
   ]
  },
  {
   "cell_type": "code",
   "execution_count": 100,
   "id": "96681116-b7e2-4537-b1fd-50ab65c9a149",
   "metadata": {},
   "outputs": [
    {
     "data": {
      "text/plain": [
       "array([[ 6,  8, 10],\n",
       "       [ 7,  9, 11]])"
      ]
     },
     "execution_count": 100,
     "metadata": {},
     "output_type": "execute_result"
    }
   ],
   "source": [
    "arr4.transpose()"
   ]
  },
  {
   "cell_type": "code",
   "execution_count": 102,
   "id": "fcafac86-ff2d-437f-bdbb-733a006a19cf",
   "metadata": {},
   "outputs": [],
   "source": [
    "arr5 = np.arange(12,18).reshape(2,3)"
   ]
  },
  {
   "cell_type": "code",
   "execution_count": 123,
   "id": "aed0da59-7384-41f8-af5a-83b9e9907af9",
   "metadata": {},
   "outputs": [],
   "source": [
    "arr4 = arr4.reshape(2,3)"
   ]
  },
  {
   "cell_type": "code",
   "execution_count": 127,
   "id": "53434c3f-df7f-4ddf-8154-793164e5972a",
   "metadata": {},
   "outputs": [
    {
     "data": {
      "text/plain": [
       "array([[12, 13, 14],\n",
       "       [15, 16, 17]])"
      ]
     },
     "execution_count": 127,
     "metadata": {},
     "output_type": "execute_result"
    }
   ],
   "source": [
    "arr5"
   ]
  },
  {
   "cell_type": "markdown",
   "id": "748bf594-b3c3-4270-a0ba-c167ada75589",
   "metadata": {
    "jp-MarkdownHeadingCollapsed": true
   },
   "source": [
    "<h6>using stacking</h6>"
   ]
  },
  {
   "cell_type": "code",
   "execution_count": 133,
   "id": "1a6be5e8-2dff-4e68-9780-22882a62b910",
   "metadata": {},
   "outputs": [
    {
     "data": {
      "text/plain": [
       "array([[ 6,  7,  8, 12, 13, 14],\n",
       "       [ 9, 10, 11, 15, 16, 17]])"
      ]
     },
     "execution_count": 133,
     "metadata": {},
     "output_type": "execute_result"
    }
   ],
   "source": [
    "np.hstack((arr4,arr5)) #Combining two arrays horizontally"
   ]
  },
  {
   "cell_type": "code",
   "execution_count": 137,
   "id": "b649b663-4c22-46e4-b6cc-e22f499eb11d",
   "metadata": {},
   "outputs": [
    {
     "data": {
      "text/plain": [
       "array([[ 6,  7,  8],\n",
       "       [ 9, 10, 11],\n",
       "       [12, 13, 14],\n",
       "       [15, 16, 17]])"
      ]
     },
     "execution_count": 137,
     "metadata": {},
     "output_type": "execute_result"
    }
   ],
   "source": [
    "np.vstack((arr4,arr5)) #combining two arrays vertically"
   ]
  },
  {
   "cell_type": "markdown",
   "id": "7eb142bd-8b3a-460b-8ea7-02021e49dcbf",
   "metadata": {},
   "source": [
    "<h6>Using splitting|</h6>"
   ]
  },
  {
   "cell_type": "code",
   "execution_count": null,
   "id": "9066993c-5366-475a-9037-a95813673dc1",
   "metadata": {},
   "outputs": [],
   "source": [
    "8374383649"
   ]
  },
  {
   "cell_type": "code",
   "execution_count": 141,
   "id": "6d57d89d-e4dd-4c13-95ca-9c808799e8c3",
   "metadata": {},
   "outputs": [
    {
     "data": {
      "text/plain": [
       "[array([[12, 13, 14]]), array([[15, 16, 17]])]"
      ]
     },
     "execution_count": 141,
     "metadata": {},
     "output_type": "execute_result"
    }
   ],
   "source": [
    "np.vsplit(arr5,2) "
   ]
  },
  {
   "cell_type": "code",
   "execution_count": 143,
   "id": "fc682e49-60d0-4283-b40f-e9b9e9fee05b",
   "metadata": {},
   "outputs": [
    {
     "data": {
      "text/plain": [
       "[array([[12],\n",
       "        [15]]),\n",
       " array([[13],\n",
       "        [16]]),\n",
       " array([[14],\n",
       "        [17]])]"
      ]
     },
     "execution_count": 143,
     "metadata": {},
     "output_type": "execute_result"
    }
   ],
   "source": [
    "np.hsplit(arr5,3)"
   ]
  },
  {
   "cell_type": "code",
   "execution_count": 161,
   "id": "8963650b-46af-4856-9ab3-df3839faf3ac",
   "metadata": {},
   "outputs": [
    {
     "name": "stdout",
     "output_type": "stream",
     "text": [
      "n\n"
     ]
    }
   ],
   "source": [
    "str = \"In An Agreement\"\n",
    "print(str[1])"
   ]
  },
  {
   "cell_type": "code",
   "execution_count": 163,
   "id": "4504ad50-0c7c-4130-b5c9-a9627b8ad969",
   "metadata": {},
   "outputs": [
    {
     "name": "stdout",
     "output_type": "stream",
     "text": [
      "An\n",
      "['Agreement', 'An', 'In']\n"
     ]
    }
   ],
   "source": [
    "#str1 = [\"he\",\"is\",\"good\",\"boy\",\"but\",\"bad\"]\n",
    "str1 = str.split()\n",
    "str2 = str1.copy()\n",
    "start = str1[0].lower()\n",
    "\n",
    "for i in str2:\n",
    "    #print(i.lower())\n",
    "    if i.lower() < start:\n",
    "        start = i\n",
    "print(start)\n",
    "str1.sort()\n",
    "print(str1)"
   ]
  },
  {
   "cell_type": "code",
   "execution_count": 159,
   "id": "ee9d38ae-d392-41a3-b509-0952c5728d01",
   "metadata": {},
   "outputs": [
    {
     "name": "stdout",
     "output_type": "stream",
     "text": [
      "{'In', 'Agreement'}\n",
      "{'slow', 'bit'}\n"
     ]
    }
   ],
   "source": [
    "def first_dictionary_word(sentence):\n",
    "    words = sentence.split()  \n",
    "    mini =  min(words, key=lambda x: x.lower())\n",
    "    maxi = max(words, key=lambda x: x.lower())\n",
    "\n",
    "    return {mini,maxi}\n",
    "print(first_dictionary_word(\"In An Agreement\"))   \n",
    "print(first_dictionary_word(\"He is bit slow\")) \n",
    "\n"
   ]
  },
  {
   "cell_type": "code",
   "execution_count": null,
   "id": "1d8ad70d-b3dc-4de6-ab26-75573923cd50",
   "metadata": {},
   "outputs": [],
   "source": []
  }
 ],
 "metadata": {
  "kernelspec": {
   "display_name": "Python [conda env:base] *",
   "language": "python",
   "name": "conda-base-py"
  },
  "language_info": {
   "codemirror_mode": {
    "name": "ipython",
    "version": 3
   },
   "file_extension": ".py",
   "mimetype": "text/x-python",
   "name": "python",
   "nbconvert_exporter": "python",
   "pygments_lexer": "ipython3",
   "version": "3.12.7"
  }
 },
 "nbformat": 4,
 "nbformat_minor": 5
}
